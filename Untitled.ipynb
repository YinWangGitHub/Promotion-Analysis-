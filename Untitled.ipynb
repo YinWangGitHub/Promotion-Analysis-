{
 "cells": [
  {
   "cell_type": "code",
   "execution_count": 150,
   "id": "669d7474",
   "metadata": {},
   "outputs": [],
   "source": [
    "import numpy as np\n",
    "import pandas as pd\n",
    "import matplotlib.pyplot as plt\n",
    "import seaborn as sns\n",
    "\n",
    "# 忽略警告\n",
    "import warnings\n",
    "warnings.filterwarnings(\"ignore\")\n",
    "\n",
    "# notebook全部内容输出\n",
    "from IPython.core.interactiveshell import InteractiveShell\n",
    "InteractiveShell.ast_node_interactivity = \"all\"\n",
    "\n",
    "# 正常显示负号字符\n",
    "plt.rcParams['axes.unicode_minus'] = False \n",
    "# Mac 显示中文\n",
    "plt.rcParams[\"font.family\"] = 'Heiti TC'\n",
    " \n",
    "# 运行这句命令会在notebook中启动静态图形\n",
    "%matplotlib inline\n"
   ]
  },
  {
   "cell_type": "code",
   "execution_count": 151,
   "id": "3fa05c63",
   "metadata": {},
   "outputs": [],
   "source": [
    "Dstars= pd.read_csv('dallasStars.csv')\n",
    "#Dstars['tkt+con']= Dstars['ticket'] + Dstars['concession']\n",
    "Dstars['id']= Dstars['id'].astype('object')\n",
    "#define a func to calculate profit\n",
    "def cal_con(x):\n",
    "    if x.offer == 'control':\n",
    "        return x.concession\n",
    "    elif x.offer == 'drink':\n",
    "        return x.concession - 2\n",
    "    else:\n",
    "        return x.concession - 6\n",
    "\n",
    "Dstars['profit_con'] = Dstars.apply(cal_con, axis=1)\n",
    "\n"
   ]
  },
  {
   "cell_type": "code",
   "execution_count": 152,
   "id": "9b6d2352",
   "metadata": {},
   "outputs": [
    {
     "data": {
      "text/html": [
       "<div>\n",
       "<style scoped>\n",
       "    .dataframe tbody tr th:only-of-type {\n",
       "        vertical-align: middle;\n",
       "    }\n",
       "\n",
       "    .dataframe tbody tr th {\n",
       "        vertical-align: top;\n",
       "    }\n",
       "\n",
       "    .dataframe thead th {\n",
       "        text-align: right;\n",
       "    }\n",
       "</style>\n",
       "<table border=\"1\" class=\"dataframe\">\n",
       "  <thead>\n",
       "    <tr style=\"text-align: right;\">\n",
       "      <th></th>\n",
       "      <th>id</th>\n",
       "      <th>offer</th>\n",
       "      <th>responded</th>\n",
       "      <th>ticket</th>\n",
       "      <th>concession</th>\n",
       "      <th>profit_con</th>\n",
       "    </tr>\n",
       "  </thead>\n",
       "  <tbody>\n",
       "    <tr>\n",
       "      <th>0</th>\n",
       "      <td>2327543.31571</td>\n",
       "      <td>control</td>\n",
       "      <td>0</td>\n",
       "      <td>0</td>\n",
       "      <td>0.00</td>\n",
       "      <td>0.00</td>\n",
       "    </tr>\n",
       "    <tr>\n",
       "      <th>1</th>\n",
       "      <td>2860619.498184</td>\n",
       "      <td>control</td>\n",
       "      <td>0</td>\n",
       "      <td>0</td>\n",
       "      <td>0.00</td>\n",
       "      <td>0.00</td>\n",
       "    </tr>\n",
       "    <tr>\n",
       "      <th>2</th>\n",
       "      <td>3864266.816759</td>\n",
       "      <td>control</td>\n",
       "      <td>0</td>\n",
       "      <td>0</td>\n",
       "      <td>0.00</td>\n",
       "      <td>0.00</td>\n",
       "    </tr>\n",
       "    <tr>\n",
       "      <th>3</th>\n",
       "      <td>5541038.949974</td>\n",
       "      <td>control</td>\n",
       "      <td>1</td>\n",
       "      <td>157</td>\n",
       "      <td>17.46</td>\n",
       "      <td>17.46</td>\n",
       "    </tr>\n",
       "    <tr>\n",
       "      <th>4</th>\n",
       "      <td>2008409.655187</td>\n",
       "      <td>control</td>\n",
       "      <td>0</td>\n",
       "      <td>0</td>\n",
       "      <td>0.00</td>\n",
       "      <td>0.00</td>\n",
       "    </tr>\n",
       "    <tr>\n",
       "      <th>...</th>\n",
       "      <td>...</td>\n",
       "      <td>...</td>\n",
       "      <td>...</td>\n",
       "      <td>...</td>\n",
       "      <td>...</td>\n",
       "      <td>...</td>\n",
       "    </tr>\n",
       "    <tr>\n",
       "      <th>1495</th>\n",
       "      <td>4364304.134157</td>\n",
       "      <td>drink</td>\n",
       "      <td>0</td>\n",
       "      <td>0</td>\n",
       "      <td>0.00</td>\n",
       "      <td>-2.00</td>\n",
       "    </tr>\n",
       "    <tr>\n",
       "      <th>1496</th>\n",
       "      <td>5821028.454462</td>\n",
       "      <td>drink</td>\n",
       "      <td>1</td>\n",
       "      <td>219</td>\n",
       "      <td>11.86</td>\n",
       "      <td>9.86</td>\n",
       "    </tr>\n",
       "    <tr>\n",
       "      <th>1497</th>\n",
       "      <td>5408694.260055</td>\n",
       "      <td>drink</td>\n",
       "      <td>1</td>\n",
       "      <td>182</td>\n",
       "      <td>8.86</td>\n",
       "      <td>6.86</td>\n",
       "    </tr>\n",
       "    <tr>\n",
       "      <th>1498</th>\n",
       "      <td>5808823.434869</td>\n",
       "      <td>drink</td>\n",
       "      <td>1</td>\n",
       "      <td>180</td>\n",
       "      <td>9.36</td>\n",
       "      <td>7.36</td>\n",
       "    </tr>\n",
       "    <tr>\n",
       "      <th>1499</th>\n",
       "      <td>3323465.928202</td>\n",
       "      <td>drink</td>\n",
       "      <td>0</td>\n",
       "      <td>0</td>\n",
       "      <td>0.00</td>\n",
       "      <td>-2.00</td>\n",
       "    </tr>\n",
       "  </tbody>\n",
       "</table>\n",
       "<p>1500 rows × 6 columns</p>\n",
       "</div>"
      ],
      "text/plain": [
       "                  id    offer  responded  ticket  concession  profit_con\n",
       "0      2327543.31571  control          0       0        0.00        0.00\n",
       "1     2860619.498184  control          0       0        0.00        0.00\n",
       "2     3864266.816759  control          0       0        0.00        0.00\n",
       "3     5541038.949974  control          1     157       17.46       17.46\n",
       "4     2008409.655187  control          0       0        0.00        0.00\n",
       "...              ...      ...        ...     ...         ...         ...\n",
       "1495  4364304.134157    drink          0       0        0.00       -2.00\n",
       "1496  5821028.454462    drink          1     219       11.86        9.86\n",
       "1497  5408694.260055    drink          1     182        8.86        6.86\n",
       "1498  5808823.434869    drink          1     180        9.36        7.36\n",
       "1499  3323465.928202    drink          0       0        0.00       -2.00\n",
       "\n",
       "[1500 rows x 6 columns]"
      ]
     },
     "execution_count": 152,
     "metadata": {},
     "output_type": "execute_result"
    }
   ],
   "source": [
    "Dstars"
   ]
  },
  {
   "cell_type": "code",
   "execution_count": 153,
   "id": "076617a4",
   "metadata": {},
   "outputs": [],
   "source": [
    "profit_tkt_df= Dstars[Dstars['responded']== 1].groupby('offer')['ticket'].mean().reset_index()\n",
    "profit_con_df= Dstars[Dstars['responded']== 1].groupby('offer')['profit_con'].mean().reset_index()\n",
    "res_rate_df= pd.DataFrame(Dstars.groupby('offer')['responded'].sum()/ 500).reset_index()"
   ]
  },
  {
   "cell_type": "code",
   "execution_count": 154,
   "id": "24fd6a89",
   "metadata": {},
   "outputs": [
    {
     "data": {
      "text/html": [
       "<div>\n",
       "<style scoped>\n",
       "    .dataframe tbody tr th:only-of-type {\n",
       "        vertical-align: middle;\n",
       "    }\n",
       "\n",
       "    .dataframe tbody tr th {\n",
       "        vertical-align: top;\n",
       "    }\n",
       "\n",
       "    .dataframe thead th {\n",
       "        text-align: right;\n",
       "    }\n",
       "</style>\n",
       "<table border=\"1\" class=\"dataframe\">\n",
       "  <thead>\n",
       "    <tr style=\"text-align: right;\">\n",
       "      <th></th>\n",
       "      <th>offer</th>\n",
       "      <th>responded</th>\n",
       "      <th>ticket</th>\n",
       "      <th>profit_con</th>\n",
       "      <th>total_profit</th>\n",
       "    </tr>\n",
       "  </thead>\n",
       "  <tbody>\n",
       "    <tr>\n",
       "      <th>0</th>\n",
       "      <td>control</td>\n",
       "      <td>0.190</td>\n",
       "      <td>129.210526</td>\n",
       "      <td>19.874316</td>\n",
       "      <td>40989.18</td>\n",
       "    </tr>\n",
       "    <tr>\n",
       "      <th>1</th>\n",
       "      <td>drink</td>\n",
       "      <td>0.228</td>\n",
       "      <td>189.140351</td>\n",
       "      <td>12.194211</td>\n",
       "      <td>67356.42</td>\n",
       "    </tr>\n",
       "    <tr>\n",
       "      <th>2</th>\n",
       "      <td>food</td>\n",
       "      <td>0.304</td>\n",
       "      <td>138.828947</td>\n",
       "      <td>2.015461</td>\n",
       "      <td>62725.05</td>\n",
       "    </tr>\n",
       "  </tbody>\n",
       "</table>\n",
       "</div>"
      ],
      "text/plain": [
       "     offer  responded      ticket  profit_con  total_profit\n",
       "0  control      0.190  129.210526   19.874316      40989.18\n",
       "1    drink      0.228  189.140351   12.194211      67356.42\n",
       "2     food      0.304  138.828947    2.015461      62725.05"
      ]
     },
     "execution_count": 154,
     "metadata": {},
     "output_type": "execute_result"
    }
   ],
   "source": [
    "df= pd.merge(res_rate_df,profit_tkt_df)\n",
    "df= pd.merge(df,profit_con_df )\n",
    "df['total_profit']= 1500 * df['responded'] * (df.ticket + df.profit_con) - 1500\n",
    "df"
   ]
  },
  {
   "cell_type": "code",
   "execution_count": 160,
   "id": "49c50370",
   "metadata": {},
   "outputs": [],
   "source": [
    "df['total_prof']  = df.ticket + df.profit_con"
   ]
  },
  {
   "cell_type": "code",
   "execution_count": 161,
   "id": "f8c98ca1",
   "metadata": {},
   "outputs": [
    {
     "data": {
      "text/html": [
       "<div>\n",
       "<style scoped>\n",
       "    .dataframe tbody tr th:only-of-type {\n",
       "        vertical-align: middle;\n",
       "    }\n",
       "\n",
       "    .dataframe tbody tr th {\n",
       "        vertical-align: top;\n",
       "    }\n",
       "\n",
       "    .dataframe thead th {\n",
       "        text-align: right;\n",
       "    }\n",
       "</style>\n",
       "<table border=\"1\" class=\"dataframe\">\n",
       "  <thead>\n",
       "    <tr style=\"text-align: right;\">\n",
       "      <th></th>\n",
       "      <th>offer</th>\n",
       "      <th>responded</th>\n",
       "      <th>ticket</th>\n",
       "      <th>profit_con</th>\n",
       "      <th>total_profit</th>\n",
       "      <th>total_prof</th>\n",
       "    </tr>\n",
       "  </thead>\n",
       "  <tbody>\n",
       "    <tr>\n",
       "      <th>0</th>\n",
       "      <td>control</td>\n",
       "      <td>0.190</td>\n",
       "      <td>129.210526</td>\n",
       "      <td>19.874316</td>\n",
       "      <td>40989.18</td>\n",
       "      <td>149.084842</td>\n",
       "    </tr>\n",
       "    <tr>\n",
       "      <th>1</th>\n",
       "      <td>drink</td>\n",
       "      <td>0.228</td>\n",
       "      <td>189.140351</td>\n",
       "      <td>12.194211</td>\n",
       "      <td>67356.42</td>\n",
       "      <td>201.334561</td>\n",
       "    </tr>\n",
       "    <tr>\n",
       "      <th>2</th>\n",
       "      <td>food</td>\n",
       "      <td>0.304</td>\n",
       "      <td>138.828947</td>\n",
       "      <td>2.015461</td>\n",
       "      <td>62725.05</td>\n",
       "      <td>140.844408</td>\n",
       "    </tr>\n",
       "  </tbody>\n",
       "</table>\n",
       "</div>"
      ],
      "text/plain": [
       "     offer  responded      ticket  profit_con  total_profit  total_prof\n",
       "0  control      0.190  129.210526   19.874316      40989.18  149.084842\n",
       "1    drink      0.228  189.140351   12.194211      67356.42  201.334561\n",
       "2     food      0.304  138.828947    2.015461      62725.05  140.844408"
      ]
     },
     "execution_count": 161,
     "metadata": {},
     "output_type": "execute_result"
    }
   ],
   "source": [
    "df"
   ]
  },
  {
   "cell_type": "code",
   "execution_count": 166,
   "id": "e113aa38",
   "metadata": {},
   "outputs": [
    {
     "data": {
      "text/plain": [
       "0.15381344195519348"
      ]
     },
     "execution_count": 166,
     "metadata": {},
     "output_type": "execute_result"
    },
    {
     "data": {
      "text/plain": [
       "0.07504591410815324"
      ]
     },
     "execution_count": 166,
     "metadata": {},
     "output_type": "execute_result"
    },
    {
     "data": {
      "text/plain": [
       "0.05773623353236659"
      ]
     },
     "execution_count": 166,
     "metadata": {},
     "output_type": "execute_result"
    }
   ],
   "source": [
    "1888.06/12275\n",
    "1618.14/21562\n",
    "1218.35/21102"
   ]
  },
  {
   "cell_type": "code",
   "execution_count": null,
   "id": "ab81a99d",
   "metadata": {},
   "outputs": [],
   "source": []
  },
  {
   "cell_type": "code",
   "execution_count": 164,
   "id": "50f4610b",
   "metadata": {},
   "outputs": [
    {
     "data": {
      "text/plain": [
       "0.014492753623188406"
      ]
     },
     "execution_count": 164,
     "metadata": {},
     "output_type": "execute_result"
    }
   ],
   "source": [
    "2/138"
   ]
  },
  {
   "cell_type": "code",
   "execution_count": 142,
   "id": "d2dc12d1",
   "metadata": {},
   "outputs": [
    {
     "data": {
      "text/plain": [
       "0.6432731759942502"
      ]
     },
     "execution_count": 142,
     "metadata": {},
     "output_type": "execute_result"
    }
   ],
   "source": [
    "(67356.42- 40989.18)/40989.18"
   ]
  },
  {
   "cell_type": "code",
   "execution_count": 143,
   "id": "ea79d9bf",
   "metadata": {},
   "outputs": [
    {
     "data": {
      "text/plain": [
       "0.35046970100421093"
      ]
     },
     "execution_count": 143,
     "metadata": {},
     "output_type": "execute_result"
    }
   ],
   "source": [
    "((189.140351+ 12.194211)-(129.210526 +19.874316 ))/(129.210526 +19.874316 )"
   ]
  },
  {
   "cell_type": "code",
   "execution_count": 155,
   "id": "28b0624c",
   "metadata": {},
   "outputs": [],
   "source": [
    "Dstars.to_csv('Dstars_new.csv', index=False)"
   ]
  },
  {
   "cell_type": "code",
   "execution_count": 156,
   "id": "548d088e",
   "metadata": {},
   "outputs": [
    {
     "data": {
      "text/plain": [
       "id             object\n",
       "offer          object\n",
       "responded       int64\n",
       "ticket          int64\n",
       "concession    float64\n",
       "profit_con    float64\n",
       "dtype: object"
      ]
     },
     "execution_count": 156,
     "metadata": {},
     "output_type": "execute_result"
    }
   ],
   "source": [
    "Dstars.dtypes"
   ]
  },
  {
   "cell_type": "code",
   "execution_count": null,
   "id": "916978d4",
   "metadata": {},
   "outputs": [],
   "source": []
  },
  {
   "cell_type": "code",
   "execution_count": null,
   "id": "15b695f1",
   "metadata": {},
   "outputs": [],
   "source": []
  }
 ],
 "metadata": {
  "kernelspec": {
   "display_name": "Python 3",
   "language": "python",
   "name": "python3"
  },
  "language_info": {
   "codemirror_mode": {
    "name": "ipython",
    "version": 3
   },
   "file_extension": ".py",
   "mimetype": "text/x-python",
   "name": "python",
   "nbconvert_exporter": "python",
   "pygments_lexer": "ipython3",
   "version": "3.8.8"
  },
  "toc": {
   "base_numbering": 1,
   "nav_menu": {},
   "number_sections": true,
   "sideBar": true,
   "skip_h1_title": false,
   "title_cell": "Table of Contents",
   "title_sidebar": "Contents",
   "toc_cell": false,
   "toc_position": {},
   "toc_section_display": true,
   "toc_window_display": false
  }
 },
 "nbformat": 4,
 "nbformat_minor": 5
}
